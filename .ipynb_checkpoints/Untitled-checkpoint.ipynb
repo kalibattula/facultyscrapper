{
 "cells": [
  {
   "cell_type": "code",
   "execution_count": null,
   "metadata": {
    "collapsed": true
   },
   "outputs": [],
   "source": []
  },
  {
   "cell_type": "code",
   "execution_count": 1,
   "metadata": {
    "collapsed": false
   },
   "outputs": [
    {
     "name": "stdout",
     "output_type": "stream",
     "text": [
      "{'name': ['Won Namgoong', 'Pradeep K. Atrey', 'Amiya Bhattacharya', 'Peter A. Bloniarz', 'Petko Bogdanov', 'Ming-Ching Chang', 'Charalampos Chelmis', 'Mei-Hwa F. Chen', 'Chinwe Ekenna', 'Jeong-Hyon Hwang', 'Vladimir Kuperman', 'Siwei Lyu', 'Abram Magner', 'Jackson Marques de Carvalho ', 'Amirreza Masoumzadeh', 'Paliath Narendran', 'Michael Phipps', 'Shaghayegh Sahebi', 'Qi Wang', 'Mariya Zheleva', 'Taryn L. Osborne', 'Mark E Seabury II'], 'Designation': ['Professor and Associate Dean for Research\\nInterim Chair Computer Science', 'Associate Professor', 'Professor of Practice', 'Associate Professor', 'Assistant Professor', 'Assistant Professor', 'Assistant Professor', 'Associate Professor', 'Assistant Professor', 'Associate Professor', 'Professor of Practice', 'Professor', 'Assistant Professor', 'Professor of Practice', 'Assistant Professor', 'Professor', 'Lecturer', 'Assistant Professor', 'Lecturer', 'Assistant Professor', 'Administrative Assistant', 'Administrative Manager'], 'email': ['wnamgoong@albany.edu', 'patrey@albany.edu', 'abhattacharya@albany.edu', 'p.bloniarz@albany.edu', 'pbogdanov@albany.edu', 'mchang2@albany.edu', 'cchelmis@albany.edu', 'mhc@cs.albany.edu', 'cekenna@albany.edu', 'jhh@cs.albany.edu', 'vkuperman@albany.edu', 'slyu@albany.edu', 'amagner@albany.edu', 'jmarquesdecarvalho@albany.edu', 'amasoumzadeh@albany.edu', 'dran@cs.albany.edu', 'mphipps@albany.edu', 'ssahebi@albany.edu', 'qwang3@albany.edu', 'mzheleva@albany.edu', 'tlosborne@albany.edu', 'mseabury@albany.edu']}\n"
     ]
    }
   ],
   "source": [
    "import requests\n",
    "from bs4 import BeautifulSoup\n",
    "\n",
    "html_text = requests.get('https://www.albany.edu/ceas/faculty-and-staff-cs')\n",
    "soup = BeautifulSoup(html_text.text,'html.parser')\n",
    "\n",
    "faculty_dict = {\"name\":[],\"Designation\":[],\"email\":[]}\n",
    "content = soup.find_all(class_='content')\n",
    "# print(type(content[2].find_all('p')[5].get_text()))\n",
    "ptags = content[2].find_all('p')\n",
    "atags = content[2].find_all('a',hreflang='en')\n",
    "# emailtags = content[2].find_all('p').find('a')\n",
    "# print(atags)\n",
    "\n",
    "for i in ptags:\n",
    "    # print(i.get_text())\n",
    "    if i.get_text().isspace():\n",
    "        continue\n",
    "    # print(i.get_text())\n",
    "    else:\n",
    "        a = i.find('a',recursive=False)\n",
    "        if a != None:\n",
    "            faculty_dict['email'].append(a.get_text())\n",
    "\n",
    "for i in atags:\n",
    "    faculty_dict['name'].append(i.get_text())\n",
    "\n",
    "for i in ptags:\n",
    "    if (i.get_text().isalpha()) or (' ' in i.get_text() and ('518' not in i.get_text())):\n",
    "        faculty_dict['Designation'].append(i.get_text())\n",
    "       \n",
    "print(faculty_dict)"
   ]
  },
  {
   "cell_type": "code",
   "execution_count": null,
   "metadata": {
    "collapsed": true
   },
   "outputs": [],
   "source": [
    "import pandas as pd\n",
    "pd.DataFrame(faculty_dict)\n"
   ]
  },
  {
   "cell_type": "raw",
   "metadata": {},
   "source": []
  }
 ],
 "metadata": {
  "kernelspec": {
   "display_name": "Python 3",
   "language": "python",
   "name": "python3"
  },
  "language_info": {
   "codemirror_mode": {
    "name": "ipython",
    "version": 3
   },
   "file_extension": ".py",
   "mimetype": "text/x-python",
   "name": "python",
   "nbconvert_exporter": "python",
   "pygments_lexer": "ipython3",
   "version": "3.6.0"
  }
 },
 "nbformat": 4,
 "nbformat_minor": 2
}
